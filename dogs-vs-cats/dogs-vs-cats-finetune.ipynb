{
 "cells": [
  {
   "cell_type": "code",
   "execution_count": 1,
   "metadata": {},
   "outputs": [],
   "source": [
    "import torch\n",
    "import torch.nn as nn\n",
    "import torch.optim as optim\n",
    "import numpy as np\n",
    "import torchvision\n",
    "from torchvision import datasets, models, transforms\n",
    "import matplotlib.pyplot as plt\n",
    "import time\n",
    "import os\n",
    "import copy"
   ]
  },
  {
   "cell_type": "code",
   "execution_count": 2,
   "metadata": {},
   "outputs": [
    {
     "name": "stdout",
     "output_type": "stream",
     "text": [
      "torch version: 1.0.1 \n",
      "torchvision version: 0.2.1\n"
     ]
    }
   ],
   "source": [
    "print(\"torch version: {} \\ntorchvision version: {}\".format(torch.__version__, torchvision.__version__))"
   ]
  },
  {
   "cell_type": "code",
   "execution_count": 3,
   "metadata": {},
   "outputs": [],
   "source": [
    "model_names = ['resnet', 'alexnet', 'vgg', 'squeezenet', 'densenet', 'inception', 'shufflenet']"
   ]
  },
  {
   "cell_type": "code",
   "execution_count": 4,
   "metadata": {},
   "outputs": [],
   "source": [
    "tran_filenames = os.listdir('data/train')\n",
    "datasetdir = os.path.join('./data')\n",
    "traindir = os.path.join(datasetdir,'train2')\n",
    "testdir = os.path.join(datasetdir,'test2')\n",
    "\n",
    "model_name = \"densenet\"\n",
    "num_classes = 2\n",
    "batch_size = 32\n",
    "epochs = 10\n",
    "feature_extract = True\n",
    "trick = False\n",
    "csv_name = \"submission-{model_name}-e{epochs}b{batch_size}-t{trick}.csv\""
   ]
  },
  {
   "cell_type": "code",
   "execution_count": 5,
   "metadata": {},
   "outputs": [],
   "source": [
    "def train(model, dataloaders, criterion, optimizer, epochs=25, is_inception=False):\n",
    "    start = time.time()\n",
    "    val_acc = []\n",
    "    best_model_wts = copy.deepcopy(model.state_dict())\n",
    "    best_acc = 0.0\n",
    "    for epoch in range(epochs):\n",
    "        print(\"Epoch {}/{}\".format(epoch, epochs-1))\n",
    "        print(\"-\"*20)\n",
    "        for phase in [\"train\", \"val\"]:\n",
    "            if phase == \"train\":\n",
    "                model.train()\n",
    "            else:\n",
    "                model.eval()\n",
    "                \n",
    "            running_loss = 0.0\n",
    "            running_correts = 0.0\n",
    "            for x, y in dataloaders[phase]:\n",
    "                x = x.to(device)    # divice\n",
    "                y = y.to(device)\n",
    "                optimizer.zero_grad()\n",
    "                with torch.set_grad_enabled(phase == 'train'):\n",
    "                    if is_inception and phase == \"train\":\n",
    "                        y_, y_aux = model(x)\n",
    "                        loss1 = criterion(y_, y)\n",
    "                        loss2 = criterion(y_aux, y)\n",
    "                        loss = loss1 + loss2\n",
    "                    else:\n",
    "                        y_ = model(x)\n",
    "                        loss = criterion(y_, y)\n",
    "                    _, preds = torch.max(y_, 1)\n",
    "                running_loss += loss.items() * x.size(0)\n",
    "                running_correts += torch.sum(preds==y.data)\n",
    "            epoch_loss = running_loss / len(dataloaders[phase].dataset)\n",
    "            epoch_acc = running_correts / len(dataloaders[phase].dataset)\n",
    "            print(\"{} Loss: {:.4f} Acc: {:.4f}\".format(phase, epoch_loss, epoch_acc))\n",
    "            \n",
    "            if phase == 'val' and epoch_acc > best_acc:   # best_acc\n",
    "                best_acc = epoch_acc\n",
    "                best_model_wts = copy.deepcopy(model.state_dict())\n",
    "            if phase == 'val':\n",
    "                val_acc.append(epoch_acc)\n",
    "        print()\n",
    "    cost = time.time() - start\n",
    "    print('Training complete in {:.0f}m {:.0f}s'.format(cost // 60, cost % 60))\n",
    "    print('Best val Acc: {:4f}'.format(best_acc))\n",
    "\n",
    "    # load best model weights\n",
    "    model.load_state_dict(best_model_wts)\n",
    "    return model, val_acc\n",
    "                    "
   ]
  },
  {
   "cell_type": "code",
   "execution_count": 6,
   "metadata": {},
   "outputs": [],
   "source": [
    "def set_parameter_requires_grad(model, is_feature_extract): # 特征提取\n",
    "    if is_feature_extract:\n",
    "        for para in model.parameters():\n",
    "            para.requires_grad = Fales"
   ]
  },
  {
   "cell_type": "code",
   "execution_count": null,
   "metadata": {},
   "outputs": [],
   "source": []
  }
 ],
 "metadata": {
  "kernelspec": {
   "display_name": "Python 3",
   "language": "python",
   "name": "python3"
  },
  "language_info": {
   "codemirror_mode": {
    "name": "ipython",
    "version": 3
   },
   "file_extension": ".py",
   "mimetype": "text/x-python",
   "name": "python",
   "nbconvert_exporter": "python",
   "pygments_lexer": "ipython3",
   "version": "3.6.8"
  }
 },
 "nbformat": 4,
 "nbformat_minor": 2
}
