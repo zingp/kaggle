{
 "cells": [
  {
   "cell_type": "code",
   "execution_count": 1,
   "metadata": {},
   "outputs": [
    {
     "ename": "ModuleNotFoundError",
     "evalue": "No module named 'pyhdfs'",
     "output_type": "error",
     "traceback": [
      "\u001b[0;31m---------------------------------------------------------------------------\u001b[0m",
      "\u001b[0;31mModuleNotFoundError\u001b[0m                       Traceback (most recent call last)",
      "\u001b[0;32m<ipython-input-1-9ec9a50b8902>\u001b[0m in \u001b[0;36m<module>\u001b[0;34m\u001b[0m\n\u001b[0;32m----> 1\u001b[0;31m \u001b[0;32mimport\u001b[0m \u001b[0mpyhdfs\u001b[0m\u001b[0;34m\u001b[0m\u001b[0;34m\u001b[0m\u001b[0m\n\u001b[0m",
      "\u001b[0;31mModuleNotFoundError\u001b[0m: No module named 'pyhdfs'"
     ]
    }
   ],
   "source": [
    "import pyhdfs"
   ]
  },
  {
   "cell_type": "code",
   "execution_count": null,
   "metadata": {},
   "outputs": [],
   "source": [
    "fs = pyhdfs.HdfsClient(hosts='192.168.226.142,50070',user_name='hdfs')\n",
    "fs.get_home_directory()#返回这个用户的根目录\n",
    "fs.get_active_namenode()#返回可用的namenode节点\n",
    "\n",
    "path='/zhanggen/'\n",
    "file='myfile.txt'\n",
    "file_name=path+file\n",
    "#在上传文件之前，请修改本地 host文件 192.168.226.142 localhost C:\\WINDOWS\\system32\\drivers\\etc\\host\n",
    "print('路径已经存在') if fs.exists(path) else fs.mkdirs(path)\n",
    "print('文件已存在') if fs.exists(path+file) else fs.copy_from_local('c.txt',path+file,) #上传本地文件到HDFS集群\n",
    "fs.copy_to_local(path+file, 'zhanggen.txt')# 从HDFS集群上copy 文件到本地\n",
    "fs.listdir(path) #以列表形式['a.out', 'a.txt']，返回指定目录下的所有文件\n",
    "response=fs.open(path+file) #查看文件内容\n",
    "print(response.read())\n",
    "\n",
    "fs.append(file_name,'Thanks myself for fighting ',) #在HDFS集群的文件里面添加内容\n",
    "response=fs.open(file_name) #查看文件内容\n",
    "print(response.read())\n",
    "print(fs.get_file_checksum(file_name)) #查看文件大小\n",
    "print(fs.list_status(path))#查看单个路径的状态\n",
    "print(fs.list_status(file_name))#查看单个文件状态"
   ]
  }
 ],
 "metadata": {
  "kernelspec": {
   "display_name": "Python 3",
   "language": "python",
   "name": "python3"
  },
  "language_info": {
   "codemirror_mode": {
    "name": "ipython",
    "version": 3
   },
   "file_extension": ".py",
   "mimetype": "text/x-python",
   "name": "python",
   "nbconvert_exporter": "python",
   "pygments_lexer": "ipython3",
   "version": "3.6.8"
  }
 },
 "nbformat": 4,
 "nbformat_minor": 2
}
