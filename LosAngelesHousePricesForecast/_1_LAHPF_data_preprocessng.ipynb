{
 "cells": [
  {
   "cell_type": "code",
   "execution_count": 1,
   "metadata": {},
   "outputs": [],
   "source": [
    "import numpy as np\n",
    "import pandas as pd\n",
    "import matplotlib.pyplot as plt\n",
    "import seaborn as sns\n",
    "\n",
    "from sklearn.model_selection import train_test_split\n",
    "from sklearn.metrics import mean_squared_error\n",
    "import xgboost as xgb\n",
    "\n",
    "from sklearn.feature_selection import SelectFromModel\n",
    "\n",
    "import warnings\n",
    "warnings.filterwarnings('ignore')\n",
    "%matplotlib inline\n",
    "plt.style.use('ggplot')"
   ]
  },
  {
   "cell_type": "code",
   "execution_count": 4,
   "metadata": {},
   "outputs": [
    {
     "name": "stdout",
     "output_type": "stream",
     "text": [
      "data shape: (2916, 80)\n"
     ]
    }
   ],
   "source": [
    "train = pd.read_csv(\"data/data.csv\")\n",
    "test = pd.read_csv(\"data/test.csv\")\n",
    "\n",
    "# 去掉噪声\n",
    "train.drop(train[(train[\"GrLivArea\"]>4000) & (train[\"SalePrice\"]<300000)].index, inplace=True)\n",
    "train.drop(train[(train[\"OverallQual\"]<5) & (train[\"SalePrice\"]>200000)].index, inplace=True)\n",
    "\n",
    "# 将测试集和训练集合并在一起\n",
    "data = pd.concat([train,test], ignore_index=True)\n",
    "data.drop(['Id'],axis=1, inplace=True)\n",
    "print(\"data shape:\", data.shape)"
   ]
  },
  {
   "cell_type": "code",
   "execution_count": 5,
   "metadata": {},
   "outputs": [],
   "source": [
    "data[\"LotAreaCut\"] = pd.qcut(data.LotArea,10)    # 新增一列，按照LotArea均分为10等份\n",
    "data['LotFrontage']=data.groupby(['LotAreaCut'])['LotFrontage'].transform(lambda x: x.fillna(x.median()))\n",
    "\n",
    "cols = [\"MasVnrArea\", \"BsmtUnfSF\", \"TotalBsmtSF\", \"GarageCars\", \"BsmtFinSF2\", \"BsmtFinSF1\", \"GarageArea\"]\n",
    "for col in cols:\n",
    "    data[col].fillna(0, inplace=True)\n",
    "    \n",
    "cols1 = [\"PoolQC\" , \"MiscFeature\", \"Alley\", \"Fence\", \"FireplaceQu\", \"GarageQual\", \"GarageCond\", \"GarageFinish\", \"GarageYrBlt\", \"GarageType\", \"BsmtExposure\", \"BsmtCond\", \"BsmtQual\", \"BsmtFinType2\", \"BsmtFinType1\", \"MasVnrType\"]\n",
    "for col in cols1:\n",
    "    data[col].fillna(\"None\", inplace=True)\n",
    "\n",
    "cols2 = [\"MSZoning\", \"BsmtFullBath\", \"BsmtHalfBath\", \"Utilities\", \"Functional\", \"Electrical\", \"KitchenQual\", \"SaleType\",\"Exterior1st\", \"Exterior2nd\"]\n",
    "for col in cols2:\n",
    "    data[col].fillna(data[col].mode()[0], inplace=True)"
   ]
  },
  {
   "cell_type": "code",
   "execution_count": 6,
   "metadata": {},
   "outputs": [
    {
     "name": "stdout",
     "output_type": "stream",
     "text": [
      "SalePrice    1459\n",
      "dtype: int64\n"
     ]
    },
    {
     "data": {
      "image/png": "[encoded data removed]",
      "text/plain": [
       "<Figure size 432x288 with 1 Axes>"
      ]
     },
     "metadata": {
      "needs_background": "light"
     },
     "output_type": "display_data"
    }
   ],
   "source": [
    "# 过滤数据集中各特征列含有的空值，按照空值数量降序排列\n",
    "def getnullcount():\n",
    "    x = data.isnull().sum()\n",
    "    print(x[x>0].sort_values(ascending=False))\n",
    "    x[x>0].sort_values(ascending=False).plot.bar()\n",
    "\n",
    "getnullcount()"
   ]
  },
  {
   "cell_type": "markdown",
   "metadata": {},
   "source": [
    "## 特征工程"
   ]
  },
  {
   "cell_type": "code",
   "execution_count": 9,
   "metadata": {},
   "outputs": [],
   "source": [
    "NumStr = [\"MSSubClass\",\"BsmtFullBath\",\"BsmtHalfBath\",\"HalfBath\",\"BedroomAbvGr\",\"KitchenAbvGr\",\"MoSold\",\"YrSold\",\"YearBuilt\",\"YearRemodAdd\",\"LowQualFinSF\",\"GarageYrBlt\"]\n",
    "for col in NumStr:\n",
    "    data[col] = data[col].astype(str)"
   ]
  },
  {
   "cell_type": "code",
   "execution_count": 10,
   "metadata": {},
   "outputs": [
    {
     "data": {
      "text/plain": [
       "'Done!'"
      ]
     },
     "execution_count": 10,
     "metadata": {},
     "output_type": "execute_result"
    }
   ],
   "source": [
    "# 离散化\n",
    "def map_values():\n",
    "    data[\"oMSSubClass\"] = data.MSSubClass.map({'180':1, \n",
    "                                        '30':2, '45':2, \n",
    "                                        '190':3, '50':3, '90':3, \n",
    "                                        '85':4, '40':4, '160':4, \n",
    "                                        '70':5, '20':5, '75':5, '80':5, '150':5,\n",
    "                                        '120': 6, '60':6})\n",
    "    \n",
    "    data[\"oMSZoning\"] = data.MSZoning.map({'C (all)':1, 'RH':2, 'RM':2, 'RL':3, 'FV':4})\n",
    "    \n",
    "    data[\"oNeighborhood\"] = data.Neighborhood.map({'MeadowV':1,\n",
    "                                               'IDOTRR':2, 'BrDale':2,\n",
    "                                               'OldTown':3, 'Edwards':3, 'BrkSide':3,\n",
    "                                               'Sawyer':4, 'Blueste':4, 'SWISU':4, 'NAmes':4,\n",
    "                                               'NPkVill':5, 'Mitchel':5,\n",
    "                                               'SawyerW':6, 'Gilbert':6, 'NWAmes':6,\n",
    "                                               'Blmngtn':7, 'CollgCr':7, 'ClearCr':7, 'Crawfor':7,\n",
    "                                               'Veenker':8, 'Somerst':8, 'Timber':8,\n",
    "                                               'StoneBr':9,\n",
    "                                               'NoRidge':10, 'NridgHt':10})\n",
    "    \n",
    "    data[\"oCondition1\"] = data.Condition1.map({'Artery':1,\n",
    "                                           'Feedr':2, 'RRAe':2,\n",
    "                                           'Norm':3, 'RRAn':3,\n",
    "                                           'PosN':4, 'RRNe':4,\n",
    "                                           'PosA':5 ,'RRNn':5})\n",
    "    data[\"oBldgType\"] = data.BldgType.map({'2fmCon':1, 'Duplex':1, 'Twnhs':1, '1Fam':2, 'TwnhsE':2})\n",
    "    \n",
    "    data[\"oHouseStyle\"] = data.HouseStyle.map({'1.5Unf':1, \n",
    "                                           '1.5Fin':2, '2.5Unf':2, 'SFoyer':2, \n",
    "                                           '1Story':3, 'SLvl':3,\n",
    "                                           '2Story':4, '2.5Fin':4})\n",
    "    \n",
    "    data[\"oExterior1st\"] = data.Exterior1st.map({'BrkComm':1,\n",
    "                                             'AsphShn':2, 'CBlock':2, 'AsbShng':2,\n",
    "                                             'WdShing':3, 'Wd Sdng':3, 'MetalSd':3, 'Stucco':3, 'HdBoard':3,\n",
    "                                             'BrkFace':4, 'Plywood':4,\n",
    "                                             'VinylSd':5,\n",
    "                                             'CemntBd':6,\n",
    "                                             'Stone':7, 'ImStucc':7})\n",
    "    \n",
    "    data[\"oMasVnrType\"] = data.MasVnrType.map({'BrkCmn':1, 'None':1, 'BrkFace':2, 'Stone':3})\n",
    "    \n",
    "    data[\"oExterQual\"] = data.ExterQual.map({'Fa':1, 'TA':2, 'Gd':3, 'Ex':4})\n",
    "    \n",
    "    data[\"oFoundation\"] = data.Foundation.map({'Slab':1, \n",
    "                                           'BrkTil':2, 'CBlock':2, 'Stone':2,\n",
    "                                           'Wood':3, 'PConc':4})\n",
    "    \n",
    "    data[\"oBsmtQual\"] = data.BsmtQual.map({'Fa':2, 'None':1, 'TA':3, 'Gd':4, 'Ex':5})\n",
    "    \n",
    "    data[\"oBsmtExposure\"] = data.BsmtExposure.map({'None':1, 'No':2, 'Av':3, 'Mn':3, 'Gd':4})\n",
    "    \n",
    "    data[\"oHeating\"] = data.Heating.map({'Floor':1, 'Grav':1, 'Wall':2, 'OthW':3, 'GasW':4, 'GasA':5})\n",
    "    \n",
    "    data[\"oHeatingQC\"] = data.HeatingQC.map({'Po':1, 'Fa':2, 'TA':3, 'Gd':4, 'Ex':5})\n",
    "    \n",
    "    data[\"oKitchenQual\"] = data.KitchenQual.map({'Fa':1, 'TA':2, 'Gd':3, 'Ex':4})\n",
    "    \n",
    "    data[\"oFunctional\"] = data.Functional.map({'Maj2':1, 'Maj1':2, 'Min1':2, 'Min2':2, 'Mod':2, 'Sev':2, 'Typ':3})\n",
    "    \n",
    "    data[\"oFireplaceQu\"] = data.FireplaceQu.map({'None':1, 'Po':1, 'Fa':2, 'TA':3, 'Gd':4, 'Ex':5})\n",
    "    \n",
    "    data[\"oGarageType\"] = data.GarageType.map({'CarPort':1, 'None':1,\n",
    "                                           'Detchd':2,\n",
    "                                           '2Types':3, 'Basment':3,\n",
    "                                           'Attchd':4, 'BuiltIn':5})\n",
    "    \n",
    "    data[\"oGarageFinish\"] = data.GarageFinish.map({'None':1, 'Unf':2, 'RFn':3, 'Fin':4})\n",
    "    \n",
    "    data[\"oPavedDrive\"] = data.PavedDrive.map({'N':1, 'P':2, 'Y':3})\n",
    "    \n",
    "    data[\"oSaleType\"] = data.SaleType.map({'COD':1, 'ConLD':1, 'ConLI':1, 'ConLw':1, 'Oth':1, 'WD':1,\n",
    "                                       'CWD':2, 'Con':3, 'New':3})\n",
    "    \n",
    "    data[\"oSaleCondition\"] = data.SaleCondition.map({'AdjLand':1, 'Abnorml':2, 'Alloca':2, 'Family':2, 'Normal':3, 'Partial':4})            \n",
    "                              \n",
    "    return \"Done!\"\n",
    "\n",
    "map_values()"
   ]
  },
  {
   "cell_type": "code",
   "execution_count": 16,
   "metadata": {},
   "outputs": [],
   "source": [
    "from sklearn.preprocessing import LabelEncoder\n",
    "lab = LabelEncoder()\n",
    "data[\"YearBuilt\"] = lab.fit_transform(data[\"YearBuilt\"])\n",
    "data[\"YearRemodAdd\"] = lab.fit_transform(data[\"YearRemodAdd\"])\n",
    "data[\"GarageYrBlt\"] = lab.fit_transform(data[\"GarageYrBlt\"])"
   ]
  },
  {
   "cell_type": "code",
   "execution_count": 20,
   "metadata": {},
   "outputs": [
    {
     "name": "stdout",
     "output_type": "stream",
     "text": [
      "(2916, 123)\n"
     ]
    }
   ],
   "source": [
    "def mix_features(X):\n",
    "    X[\"TotalHouse\"] = X[\"TotalBsmtSF\"] + X[\"1stFlrSF\"] + X[\"2ndFlrSF\"]   \n",
    "    X[\"TotalArea\"] = X[\"TotalBsmtSF\"] + X[\"1stFlrSF\"] + X[\"2ndFlrSF\"] + X[\"GarageArea\"]\n",
    "\n",
    "    X[\"+_TotalHouse_OverallQual\"] = X[\"TotalHouse\"] * X[\"OverallQual\"]\n",
    "    X[\"+_GrLivArea_OverallQual\"] = X[\"GrLivArea\"] * X[\"OverallQual\"]\n",
    "    X[\"+_oMSZoning_TotalHouse\"] = X[\"oMSZoning\"] * X[\"TotalHouse\"]\n",
    "    X[\"+_oMSZoning_OverallQual\"] = X[\"oMSZoning\"] + X[\"OverallQual\"]\n",
    "    X[\"+_oMSZoning_YearBuilt\"] = X[\"oMSZoning\"] + X[\"YearBuilt\"]\n",
    "    X[\"+_oNeighborhood_TotalHouse\"] = X[\"oNeighborhood\"] * X[\"TotalHouse\"]\n",
    "    X[\"+_oNeighborhood_OverallQual\"] = X[\"oNeighborhood\"] + X[\"OverallQual\"]\n",
    "    X[\"+_oNeighborhood_YearBuilt\"] = X[\"oNeighborhood\"] + X[\"YearBuilt\"]\n",
    "    X[\"+_BsmtFinSF1_OverallQual\"] = X[\"BsmtFinSF1\"] * X[\"OverallQual\"]\n",
    "\n",
    "    X[\"-_oFunctional_TotalHouse\"] = X[\"oFunctional\"] * X[\"TotalHouse\"]\n",
    "    X[\"-_oFunctional_OverallQual\"] = X[\"oFunctional\"] + X[\"OverallQual\"]\n",
    "    X[\"-_LotArea_OverallQual\"] = X[\"LotArea\"] * X[\"OverallQual\"]\n",
    "    X[\"-_TotalHouse_LotArea\"] = X[\"TotalHouse\"] + X[\"LotArea\"]\n",
    "    X[\"-_oCondition1_TotalHouse\"] = X[\"oCondition1\"] * X[\"TotalHouse\"]\n",
    "    X[\"-_oCondition1_OverallQual\"] = X[\"oCondition1\"] + X[\"OverallQual\"]\n",
    "\n",
    "    X[\"Bsmt\"] = X[\"BsmtFinSF1\"] + X[\"BsmtFinSF2\"] + X[\"BsmtUnfSF\"]\n",
    "    X[\"Rooms\"] = X[\"FullBath\"]+X[\"TotRmsAbvGrd\"]\n",
    "    X[\"PorchArea\"] = X[\"OpenPorchSF\"]+X[\"EnclosedPorch\"]+X[\"3SsnPorch\"]+X[\"ScreenPorch\"]\n",
    "    X[\"TotalPlace\"] = X[\"TotalBsmtSF\"] + X[\"1stFlrSF\"] + X[\"2ndFlrSF\"] + X[\"GarageArea\"] + X[\"OpenPorchSF\"]+X[\"EnclosedPorch\"]+X[\"3SsnPorch\"]+X[\"ScreenPorch\"]\n",
    "\n",
    "    return X\n",
    "\n",
    "data = mix_features(data)\n",
    "## 删除SalePrice\n",
    "data.drop(['SalePrice'], axis=1, inplace=True)\n",
    "print(data.shape)\n"
   ]
  },
  {
   "cell_type": "code",
   "execution_count": 21,
   "metadata": {},
   "outputs": [
    {
     "name": "stdout",
     "output_type": "stream",
     "text": [
      "(2916, 436)\n"
     ]
    }
   ],
   "source": [
    "data_dummies = pd.get_dummies(data)\n",
    "print(data_dummies.shape)"
   ]
  },
  {
   "cell_type": "code",
   "execution_count": 30,
   "metadata": {},
   "outputs": [
    {
     "name": "stdout",
     "output_type": "stream",
     "text": [
      "train length: 1457\n",
      "缩放后的训练集特征: (1457, 436)\n",
      "Log后的训练集标签: (1457,)\n",
      "缩放后的测试集特征: (1459, 436)\n"
     ]
    }
   ],
   "source": [
    "from sklearn.preprocessing import RobustScaler\n",
    "from sklearn.model_selection import cross_val_score\n",
    "scaler = RobustScaler()\n",
    "n_train = train.shape[0]\n",
    "print(\"train length:\", n_train)\n",
    "\n",
    "X_train = data_dummies[:n_train]\n",
    "X_test = data_dummies[n_train:]\n",
    "y_train = train.SalePrice\n",
    "\n",
    "X_train_scaler = scaler.fit(X_train).transform(X_train)\n",
    "y_train_log = np.log(y_train)\n",
    "X_test_scaler = scaler.transform(X_test)\n",
    "\n",
    "print(\"缩放后的训练集特征:\", X_train_scaler.shape)\n",
    "print(\"Log后的训练集标签:\", y_train_log.shape)\n",
    "print(\"缩放后的测试集特征:\", X_test_scaler.shape)"
   ]
  },
  {
   "cell_type": "code",
   "execution_count": 31,
   "metadata": {},
   "outputs": [],
   "source": [
    "model_xgb = xgb.XGBRegressor(objective='reg:linear',\n",
    "                         colsample_bytree=0.7,\n",
    "                         learning_rate=0.01,\n",
    "                         max_depth=3,\n",
    "                         n_estimators=3000,\n",
    "                         subsample=0.7,\n",
    "                         reg_alpha=0.0006,\n",
    "                         nthread=6)"
   ]
  },
  {
   "cell_type": "code",
   "execution_count": 32,
   "metadata": {},
   "outputs": [],
   "source": [
    "def rmse_cv(model, X, y):\n",
    "    rmse = np.sqrt(-cross_val_score(model, X, y, scoring=\"neg_mean_squared_error\", cv=5))\n",
    "    return rmse"
   ]
  },
  {
   "cell_type": "code",
   "execution_count": 35,
   "metadata": {},
   "outputs": [
    {
     "name": "stdout",
     "output_type": "stream",
     "text": [
      "XGB: 0.112421, 0.0062\n"
     ]
    }
   ],
   "source": [
    "score = rmse_cv(model_xgb, X_train_scaler, y_train_log)\n",
    "print(\"{}: {:.6f}, {:.4f}\".format(\"XGB\",score.mean(),score.std()))"
   ]
  },
  {
   "cell_type": "code",
   "execution_count": 36,
   "metadata": {},
   "outputs": [
    {
     "name": "stdout",
     "output_type": "stream",
     "text": [
      "XGB: 2.177249, 0.1701\n"
     ]
    }
   ],
   "source": [
    "y_trian_10000 = np.array(y_train)/10000\n",
    "score = rmse_cv(model_xgb, X_train_scaler, y_trian_10000)\n",
    "print(\"{}: {:.6f}, {:.4f}\".format(\"XGB\",score.mean(), score.std()))"
   ]
  },
  {
   "cell_type": "code",
   "execution_count": 38,
   "metadata": {},
   "outputs": [],
   "source": [
    "import lightgbm as lgb"
   ]
  },
  {
   "cell_type": "code",
   "execution_count": 45,
   "metadata": {},
   "outputs": [],
   "source": [
    "model_lgb = lgb.LGBMRegressor(objective='regression', \n",
    "                              colsample_bytree=0.7,\n",
    "                              learning_rate=0.01,\n",
    "                              max_depth=3,\n",
    "                              n_estimators=3000,\n",
    "                              subsample=0.7,\n",
    "                              reg_alpha=0.0006,\n",
    "                              nthread=20)"
   ]
  },
  {
   "cell_type": "code",
   "execution_count": 46,
   "metadata": {},
   "outputs": [
    {
     "name": "stdout",
     "output_type": "stream",
     "text": [
      "XGB: 0.117413, 0.0057\n"
     ]
    }
   ],
   "source": [
    "score = rmse_cv(model_lgb, X_train_scaler, y_train_log)\n",
    "print(\"{}: {:.6f}, {:.4f}\".format(\"XGB\",score.mean(),score.std()))"
   ]
  },
  {
   "cell_type": "code",
   "execution_count": 47,
   "metadata": {},
   "outputs": [],
   "source": [
    "def get_scores(model, X, y):\n",
    "    X_train, X_test, y_train, y_test = train_test_split(X, y, test_size=0.2, random_state=2019)\n",
    "    model.fit(X_train, y_train)\n",
    "    y_pred = model.pre"
   ]
  },
  {
   "cell_type": "code",
   "execution_count": 48,
   "metadata": {},
   "outputs": [],
   "source": [
    "from sklearn.model_selection import RandomizedSearchCV"
   ]
  },
  {
   "cell_type": "code",
   "execution_count": 79,
   "metadata": {},
   "outputs": [],
   "source": [
    "def rand_search(model, paras, X, y):\n",
    "    X_train, X_test, y_train, y_test = train_test_split(X, y, test_size=0.2, random_state=2019)\n",
    "    grid = RandomizedSearchCV(model,\n",
    "                              param_distributions=paras,\n",
    "                              cv=5, \n",
    "                              scoring='neg_mean_squared_error',\n",
    "                              n_jobs=-1)\n",
    "    grid.fit(X_train, y_train)\n",
    "    best_estimator = grid.best_estimator_\n",
    "    print(\"best_estimator:\", best_estimator)\n",
    "    print(\"grid.best_score_:\", grid.best_score_)\n",
    "    #cvres = grid.cv_results_\n",
    "    #for mean_score, params in zip(cvres[\"mean_test_score\"], cvres[\"params\"]):\n",
    "    #    print(np.sqrt(-mean_score), params)\n"
   ]
  },
  {
   "cell_type": "code",
   "execution_count": 80,
   "metadata": {},
   "outputs": [
    {
     "name": "stdout",
     "output_type": "stream",
     "text": [
      "best_estimator: LGBMRegressor(boosting_type='gbdt', class_weight=None, colsample_bytree=0.9,\n",
      "       importance_type='split', learning_rate=0.01, max_depth=2,\n",
      "       min_child_samples=20, min_child_weight=0.001, min_split_gain=0.0,\n",
      "       n_estimators=3300, n_jobs=-1, num_leaves=31, objective='regression',\n",
      "       random_state=None, reg_alpha=0.0005, reg_lambda=0.0, silent=True,\n",
      "       subsample=0.7, subsample_for_bin=200000, subsample_freq=0,\n",
      "       thread=32)\n",
      "grid.best_score_: -0.014514544955787157\n"
     ]
    }
   ],
   "source": [
    "param_dist = {\n",
    "        'objective': ['regression'],\n",
    "        'n_estimators': range(2000,4000, 50),\n",
    "        'max_depth': range(2,10,1),\n",
    "        'subsample': [0.7, 0.8],\n",
    "        'colsample_bytree':[0.6, 0.7, 0.8, 0.9],\n",
    "        'learning_rate': [0.001, 0.01, 0.1],\n",
    "        'reg_alpha': [0.0005,0.0006, 0.005],\n",
    "}\n",
    "\n",
    "rand_search(lgb.LGBMRegressor(thread=32), param_dist, X_train_scaler, y_train_log)"
   ]
  },
  {
   "cell_type": "code",
   "execution_count": 81,
   "metadata": {},
   "outputs": [
    {
     "name": "stdout",
     "output_type": "stream",
     "text": [
      "best_estimator: XGBRegressor(base_score=0.5, booster='gbtree', colsample_bylevel=1,\n",
      "       colsample_bytree=0.9, gamma=0, learning_rate=0.01, max_delta_step=0,\n",
      "       max_depth=3, min_child_weight=1, missing=None, n_estimators=3150,\n",
      "       n_jobs=1, nthread=32, objective='reg:linear', random_state=0,\n",
      "       reg_alpha=0.0005, reg_lambda=1, scale_pos_weight=1, seed=None,\n",
      "       silent=True, subsample=0.8)\n",
      "grid.best_score_: -0.013732771837575557\n"
     ]
    }
   ],
   "source": [
    "param_dist = {\n",
    "        'objective': ['reg:linear'],\n",
    "        'n_estimators': range(2000,4000, 50),\n",
    "        'max_depth': range(2,10,1),\n",
    "        'subsample': [0.7, 0.8],\n",
    "        'colsample_bytree':[0.6, 0.7, 0.8, 0.9],\n",
    "        'learning_rate': [0.001, 0.01, 0.1],\n",
    "        'reg_alpha': [0.0005, 0.0006],\n",
    "}\n",
    "\n",
    "rand_search(xgb.XGBRegressor(nthread=32), param_dist, X_train_scaler, y_train_log)"
   ]
  },
  {
   "cell_type": "code",
   "execution_count": 128,
   "metadata": {},
   "outputs": [],
   "source": [
    "# 特征选择\n",
    "def features_select(model, X, y):\n",
    "    X_train, X_test, y_train, y_test = train_test_split(X, y, test_size=0.2, random_state=2019)\n",
    "    model.fit(X_train, y_train)\n",
    "    print(\"特征维数:\", len(model.feature_importances_))\n",
    "    thresholds = [i for i in model.feature_importances_ if i >1e-5]\n",
    "#     \n",
    "    print(\"去掉权重接近0的特征维数:\", len(thresholds))\n",
    "    # select_split = [int(i*len(thresholds)) for i in [0.05, 0.1, 0.15,0.2,0.4,0.5, 0.85, 0.9, 0.95, 0.98]]\n",
    "    # threshs = [thresholds[i] for i in select_split]\n",
    "    threshs = list(set(thresholds))\n",
    "    threshs.sort()\n",
    "    print(\"去重后特征维数:\", len(threshs))\n",
    "    for thresh in threshs:\n",
    "        selection = SelectFromModel(model, threshold=thresh, prefit=True)\n",
    "        select_X_train = selection.transform(X_train)\n",
    "#         if select_X_train.shape[1] >= 15:\n",
    "        selection_model = xgb.XGBRegressor(objective='reg:linear', \n",
    "                         colsample_bytree=0.9,\n",
    "                         learning_rate=0.01,\n",
    "                         max_depth=3,\n",
    "                         n_estimators=3150,\n",
    "                         subsample=0.8,\n",
    "                         reg_alpha=0.0005,\n",
    "                         nthread=32)\n",
    "        selection_model.fit(select_X_train, y_train)\n",
    "        # eval model\n",
    "        select_X_test = selection.transform(X_test)\n",
    "        print(select_X_train.shape, select_X_test.shape)\n",
    "        y_pred = selection_model.predict(select_X_test)\n",
    "\n",
    "        mse = np.sqrt(mean_squared_error(np.log(y_pred),np.log(y_test)))\n",
    "\n",
    "        print(\"Thresh=%.6f, n=%d, Mse: %.6f\" % (thresh, select_X_train.shape[1], mse))\n"
   ]
  },
  {
   "cell_type": "code",
   "execution_count": 129,
   "metadata": {},
   "outputs": [
    {
     "name": "stdout",
     "output_type": "stream",
     "text": [
      "特征维数: 436\n",
      "特征维数: 304\n",
      "特征维数: 120\n",
      "(1165, 304) (292, 304)\n",
      "Thresh=0.000051, n=304, Mse: 0.009479\n",
      "(1165, 289) (292, 289)\n",
      "Thresh=0.000101, n=289, Mse: 0.009544\n",
      "(1165, 271) (292, 271)\n",
      "Thresh=0.000152, n=271, Mse: 0.009495\n",
      "(1165, 261) (292, 261)\n",
      "Thresh=0.000202, n=261, Mse: 0.009463\n",
      "(1165, 242) (292, 242)\n",
      "Thresh=0.000253, n=242, Mse: 0.009509\n",
      "(1165, 231) (292, 231)\n",
      "Thresh=0.000303, n=231, Mse: 0.009519\n",
      "(1165, 226) (292, 226)\n",
      "Thresh=0.000354, n=226, Mse: 0.009561\n",
      "(1165, 219) (292, 219)\n",
      "Thresh=0.000404, n=219, Mse: 0.009396\n",
      "(1165, 212) (292, 212)\n",
      "Thresh=0.000455, n=212, Mse: 0.009649\n",
      "(1165, 208) (292, 208)\n",
      "Thresh=0.000505, n=208, Mse: 0.009627\n",
      "(1165, 202) (292, 202)\n",
      "Thresh=0.000556, n=202, Mse: 0.009515\n",
      "(1165, 195) (292, 195)\n",
      "Thresh=0.000606, n=195, Mse: 0.009465\n",
      "(1165, 186) (292, 186)\n",
      "Thresh=0.000657, n=186, Mse: 0.009651\n",
      "(1165, 184) (292, 184)\n",
      "Thresh=0.000707, n=184, Mse: 0.009593\n",
      "(1165, 177) (292, 177)\n",
      "Thresh=0.000758, n=177, Mse: 0.009562\n",
      "(1165, 173) (292, 173)\n",
      "Thresh=0.000809, n=173, Mse: 0.009348\n",
      "(1165, 168) (292, 168)\n",
      "Thresh=0.000859, n=168, Mse: 0.009472\n",
      "(1165, 162) (292, 162)\n",
      "Thresh=0.000910, n=162, Mse: 0.009419\n",
      "(1165, 159) (292, 159)\n",
      "Thresh=0.000960, n=159, Mse: 0.009365\n",
      "(1165, 155) (292, 155)\n",
      "Thresh=0.001011, n=155, Mse: 0.009447\n",
      "(1165, 152) (292, 152)\n",
      "Thresh=0.001061, n=152, Mse: 0.009466\n",
      "(1165, 151) (292, 151)\n",
      "Thresh=0.001112, n=151, Mse: 0.009579\n",
      "(1165, 148) (292, 148)\n",
      "Thresh=0.001162, n=148, Mse: 0.009301\n",
      "(1165, 145) (292, 145)\n",
      "Thresh=0.001213, n=145, Mse: 0.009483\n",
      "(1165, 140) (292, 140)\n",
      "Thresh=0.001263, n=140, Mse: 0.009514\n",
      "(1165, 137) (292, 137)\n",
      "Thresh=0.001314, n=137, Mse: 0.009518\n",
      "(1165, 136) (292, 136)\n",
      "Thresh=0.001364, n=136, Mse: 0.009495\n",
      "(1165, 130) (292, 130)\n",
      "Thresh=0.001415, n=130, Mse: 0.009544\n",
      "(1165, 128) (292, 128)\n",
      "Thresh=0.001466, n=128, Mse: 0.009368\n",
      "(1165, 126) (292, 126)\n",
      "Thresh=0.001516, n=126, Mse: 0.009459\n",
      "(1165, 122) (292, 122)\n",
      "Thresh=0.001567, n=122, Mse: 0.009453\n",
      "(1165, 119) (292, 119)\n",
      "Thresh=0.001617, n=119, Mse: 0.009475\n",
      "(1165, 114) (292, 114)\n",
      "Thresh=0.001668, n=114, Mse: 0.009504\n",
      "(1165, 112) (292, 112)\n",
      "Thresh=0.001718, n=112, Mse: 0.009449\n",
      "(1165, 111) (292, 111)\n",
      "Thresh=0.001769, n=111, Mse: 0.009517\n",
      "(1165, 110) (292, 110)\n",
      "Thresh=0.001819, n=110, Mse: 0.009398\n",
      "(1165, 109) (292, 109)\n",
      "Thresh=0.001870, n=109, Mse: 0.009427\n",
      "(1165, 107) (292, 107)\n",
      "Thresh=0.001920, n=107, Mse: 0.009526\n",
      "(1165, 105) (292, 105)\n",
      "Thresh=0.002021, n=105, Mse: 0.009491\n",
      "(1165, 104) (292, 104)\n",
      "Thresh=0.002072, n=104, Mse: 0.009605\n",
      "(1165, 101) (292, 101)\n",
      "Thresh=0.002122, n=101, Mse: 0.009432\n",
      "(1165, 96) (292, 96)\n",
      "Thresh=0.002173, n=96, Mse: 0.009552\n",
      "(1165, 95) (292, 95)\n",
      "Thresh=0.002224, n=95, Mse: 0.009628\n",
      "(1165, 92) (292, 92)\n",
      "Thresh=0.002274, n=92, Mse: 0.009553\n",
      "(1165, 91) (292, 91)\n",
      "Thresh=0.002325, n=91, Mse: 0.009641\n",
      "(1165, 88) (292, 88)\n",
      "Thresh=0.002375, n=88, Mse: 0.009613\n",
      "(1165, 87) (292, 87)\n",
      "Thresh=0.002426, n=87, Mse: 0.009680\n",
      "(1165, 84) (292, 84)\n",
      "Thresh=0.002476, n=84, Mse: 0.009618\n",
      "(1165, 82) (292, 82)\n",
      "Thresh=0.002577, n=82, Mse: 0.009594\n",
      "(1165, 80) (292, 80)\n",
      "Thresh=0.002678, n=80, Mse: 0.009651\n",
      "(1165, 79) (292, 79)\n",
      "Thresh=0.002729, n=79, Mse: 0.009778\n",
      "(1165, 77) (292, 77)\n",
      "Thresh=0.002779, n=77, Mse: 0.009702\n",
      "(1165, 76) (292, 76)\n",
      "Thresh=0.002830, n=76, Mse: 0.009633\n",
      "(1165, 74) (292, 74)\n",
      "Thresh=0.002931, n=74, Mse: 0.009609\n",
      "(1165, 73) (292, 73)\n",
      "Thresh=0.002982, n=73, Mse: 0.009594\n",
      "(1165, 71) (292, 71)\n",
      "Thresh=0.003032, n=71, Mse: 0.009578\n",
      "(1165, 70) (292, 70)\n",
      "Thresh=0.003083, n=70, Mse: 0.009700\n",
      "(1165, 68) (292, 68)\n",
      "Thresh=0.003184, n=68, Mse: 0.009584\n",
      "(1165, 67) (292, 67)\n",
      "Thresh=0.003234, n=67, Mse: 0.009538\n",
      "(1165, 65) (292, 65)\n",
      "Thresh=0.003335, n=65, Mse: 0.009555\n",
      "(1165, 64) (292, 64)\n",
      "Thresh=0.003386, n=64, Mse: 0.009711\n",
      "(1165, 63) (292, 63)\n",
      "Thresh=0.003487, n=63, Mse: 0.009632\n",
      "(1165, 62) (292, 62)\n",
      "Thresh=0.003537, n=62, Mse: 0.009731\n",
      "(1165, 61) (292, 61)\n",
      "Thresh=0.003588, n=61, Mse: 0.009675\n",
      "(1165, 60) (292, 60)\n",
      "Thresh=0.003639, n=60, Mse: 0.009778\n",
      "(1165, 58) (292, 58)\n",
      "Thresh=0.003689, n=58, Mse: 0.009663\n",
      "(1165, 57) (292, 57)\n",
      "Thresh=0.003740, n=57, Mse: 0.009688\n",
      "(1165, 56) (292, 56)\n",
      "Thresh=0.003790, n=56, Mse: 0.009875\n",
      "(1165, 54) (292, 54)\n",
      "Thresh=0.003891, n=54, Mse: 0.009869\n",
      "(1165, 53) (292, 53)\n",
      "Thresh=0.003992, n=53, Mse: 0.009822\n",
      "(1165, 52) (292, 52)\n",
      "Thresh=0.004093, n=52, Mse: 0.009797\n",
      "(1165, 51) (292, 51)\n",
      "Thresh=0.004194, n=51, Mse: 0.009856\n",
      "(1165, 50) (292, 50)\n",
      "Thresh=0.004346, n=50, Mse: 0.009840\n",
      "(1165, 49) (292, 49)\n",
      "Thresh=0.004498, n=49, Mse: 0.009835\n",
      "(1165, 48) (292, 48)\n",
      "Thresh=0.004548, n=48, Mse: 0.009839\n",
      "(1165, 47) (292, 47)\n",
      "Thresh=0.004649, n=47, Mse: 0.009766\n",
      "(1165, 46) (292, 46)\n",
      "Thresh=0.004851, n=46, Mse: 0.009832\n",
      "(1165, 44) (292, 44)\n",
      "Thresh=0.005104, n=44, Mse: 0.009831\n",
      "(1165, 43) (292, 43)\n",
      "Thresh=0.005458, n=43, Mse: 0.009896\n",
      "(1165, 42) (292, 42)\n",
      "Thresh=0.005660, n=42, Mse: 0.009782\n",
      "(1165, 40) (292, 40)\n",
      "Thresh=0.005761, n=40, Mse: 0.009893\n",
      "(1165, 39) (292, 39)\n",
      "Thresh=0.005913, n=39, Mse: 0.009853\n",
      "(1165, 38) (292, 38)\n",
      "Thresh=0.006216, n=38, Mse: 0.009852\n",
      "(1165, 37) (292, 37)\n",
      "Thresh=0.006266, n=37, Mse: 0.009727\n",
      "(1165, 36) (292, 36)\n",
      "Thresh=0.006317, n=36, Mse: 0.009909\n",
      "(1165, 35) (292, 35)\n",
      "Thresh=0.006367, n=35, Mse: 0.009773\n",
      "(1165, 34) (292, 34)\n",
      "Thresh=0.006721, n=34, Mse: 0.010034\n",
      "(1165, 33) (292, 33)\n",
      "Thresh=0.007328, n=33, Mse: 0.010036\n",
      "(1165, 32) (292, 32)\n",
      "Thresh=0.007530, n=32, Mse: 0.009960\n",
      "(1165, 31) (292, 31)\n",
      "Thresh=0.008490, n=31, Mse: 0.010085\n",
      "(1165, 30) (292, 30)\n",
      "Thresh=0.008541, n=30, Mse: 0.010103\n",
      "(1165, 29) (292, 29)\n",
      "Thresh=0.011269, n=29, Mse: 0.010204\n",
      "(1165, 28) (292, 28)\n",
      "Thresh=0.011573, n=28, Mse: 0.010179\n",
      "(1165, 27) (292, 27)\n",
      "Thresh=0.011623, n=27, Mse: 0.010084\n",
      "(1165, 26) (292, 26)\n",
      "Thresh=0.012129, n=26, Mse: 0.010150\n",
      "(1165, 25) (292, 25)\n",
      "Thresh=0.012482, n=25, Mse: 0.009889\n",
      "(1165, 24) (292, 24)\n",
      "Thresh=0.013493, n=24, Mse: 0.009960\n",
      "(1165, 23) (292, 23)\n",
      "Thresh=0.013594, n=23, Mse: 0.009904\n",
      "(1165, 22) (292, 22)\n",
      "Thresh=0.014857, n=22, Mse: 0.009949\n",
      "(1165, 21) (292, 21)\n",
      "Thresh=0.015919, n=21, Mse: 0.010018\n",
      "(1165, 20) (292, 20)\n",
      "Thresh=0.016272, n=20, Mse: 0.009903\n",
      "(1165, 19) (292, 19)\n",
      "Thresh=0.016727, n=19, Mse: 0.009982\n",
      "(1165, 18) (292, 18)\n",
      "Thresh=0.017031, n=18, Mse: 0.010092\n",
      "(1165, 17) (292, 17)\n",
      "Thresh=0.017940, n=17, Mse: 0.010209\n",
      "(1165, 16) (292, 16)\n",
      "Thresh=0.018142, n=16, Mse: 0.010675\n",
      "(1165, 15) (292, 15)\n",
      "Thresh=0.018294, n=15, Mse: 0.010751\n",
      "(1165, 14) (292, 14)\n",
      "Thresh=0.018698, n=14, Mse: 0.010763\n",
      "(1165, 13) (292, 13)\n",
      "Thresh=0.018900, n=13, Mse: 0.010830\n",
      "(1165, 12) (292, 12)\n",
      "Thresh=0.019861, n=12, Mse: 0.010839\n",
      "(1165, 11) (292, 11)\n",
      "Thresh=0.020214, n=11, Mse: 0.010888\n",
      "(1165, 10) (292, 10)\n",
      "Thresh=0.021427, n=10, Mse: 0.010921\n",
      "(1165, 9) (292, 9)\n",
      "Thresh=0.023095, n=9, Mse: 0.010779\n",
      "(1165, 8) (292, 8)\n",
      "Thresh=0.023246, n=8, Mse: 0.011256\n",
      "(1165, 7) (292, 7)\n",
      "Thresh=0.025369, n=7, Mse: 0.012356\n",
      "(1165, 6) (292, 6)\n",
      "Thresh=0.026177, n=6, Mse: 0.012846\n",
      "(1165, 5) (292, 5)\n",
      "Thresh=0.028452, n=5, Mse: 0.013231\n",
      "(1165, 4) (292, 4)\n",
      "Thresh=0.029614, n=4, Mse: 0.013449\n",
      "(1165, 3) (292, 3)\n",
      "Thresh=0.030473, n=3, Mse: 0.022137\n",
      "(1165, 2) (292, 2)\n",
      "Thresh=0.036436, n=2, Mse: 0.026530\n",
      "(1165, 1) (292, 1)\n",
      "Thresh=0.046897, n=1, Mse: 0.032626\n"
     ]
    }
   ],
   "source": [
    "xgb_m = xgb.XGBRegressor(objective='reg:linear', \n",
    "                         colsample_bytree=0.9,\n",
    "                         learning_rate=0.01,\n",
    "                         max_depth=3,\n",
    "                         n_estimators=3150,\n",
    "                         subsample=0.8,\n",
    "                         reg_alpha=0.0005,\n",
    "                         nthread=32)\n",
    "features_select(xgb_m, X_train_scaler, y_train_log)                 "
   ]
  },
  {
   "cell_type": "code",
   "execution_count": null,
   "metadata": {},
   "outputs": [],
   "source": []
  }
 ],
 "metadata": {
  "kernelspec": {
   "display_name": "Python 3",
   "language": "python",
   "name": "python3"
  },
  "language_info": {
   "codemirror_mode": {
    "name": "ipython",
    "version": 3
   },
   "file_extension": ".py",
   "mimetype": "text/x-python",
   "name": "python",
   "nbconvert_exporter": "python",
   "pygments_lexer": "ipython3",
   "version": "3.6.8"
  }
 },
 "nbformat": 4,
 "nbformat_minor": 2
}
